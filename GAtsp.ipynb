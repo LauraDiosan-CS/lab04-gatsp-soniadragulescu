{
 "cells": [
  {
   "cell_type": "code",
   "execution_count": 13,
   "metadata": {
    "collapsed": true,
    "pycharm": {
     "is_executing": false
    }
   },
   "outputs": [],
   "source": [
    "# read the network details\n",
    "def readNet(fileName):\n",
    "    f = open(fileName, \"r\")\n",
    "    net = {}\n",
    "    n = int(f.readline())\n",
    "    net['noNodes'] = n\n",
    "    mat = []\n",
    "    for i in range(n):\n",
    "        mat.append([])\n",
    "        line = f.readline()\n",
    "        elems = line.split(\",\")\n",
    "        for j in range(n):\n",
    "            mat[-1].append(int(elems[j]))\n",
    "    net[\"mat\"] = mat\n",
    "    f.close()\n",
    "    return net"
   ]
  },
  {
   "cell_type": "code",
   "execution_count": 14,
   "outputs": [],
   "source": [
    "import tsplib95 as tsp\n",
    "import networkx as nx\n",
    "\n",
    "def read_tsp_file(file_name_input):\n",
    "    tsp_problem = tsp.load_problem(file_name_input)\n",
    "    G = tsp_problem.get_graph()\n",
    "    n=len(G.nodes())\n",
    "    net = {}\n",
    "    net['noNodes']=n\n",
    "    matrix=nx.to_numpy_matrix(G)\n",
    "    net['mat']=matrix\n",
    "    return net\n",
    "\n",
    "#matrix[i][j] ---> matrix.item((i, j))"
   ],
   "metadata": {
    "collapsed": false,
    "pycharm": {
     "name": "#%%\n",
     "is_executing": false
    }
   }
  },
  {
   "cell_type": "code",
   "execution_count": 15,
   "outputs": [],
   "source": [
    "# define the function\n",
    "\n",
    "def fcEval(representation):\n",
    "    fitness=0\n",
    "    noNodes = net['noNodes']\n",
    "    matrix = net['mat']\n",
    "    for i in range(noNodes-1):\n",
    "        fitness+=matrix[representation[i]][representation[i+1]]\n",
    "    fitness+=matrix[representation[-1]][representation[0]]\n",
    "    return fitness"
   ],
   "metadata": {
    "collapsed": false,
    "pycharm": {
     "name": "#%%\n",
     "is_executing": false
    }
   }
  },
  {
   "cell_type": "code",
   "execution_count": 16,
   "outputs": [],
   "source": [
    "# define the function\n",
    "#matrix[i][j] ---> matrix.item((i, j))\n",
    "\n",
    "def fcEval2(representation):\n",
    "    fitness=0\n",
    "    noNodes = net['noNodes']\n",
    "    matrix = net['mat']\n",
    "    for i in range(noNodes-1):\n",
    "        fitness+=matrix.item(representation[i],representation[i+1])\n",
    "    fitness+=matrix.item(representation[-1],representation[0])\n",
    "    return fitness\n"
   ],
   "metadata": {
    "collapsed": false,
    "pycharm": {
     "name": "#%%\n",
     "is_executing": false
    }
   }
  },
  {
   "cell_type": "code",
   "execution_count": 17,
   "outputs": [],
   "source": [
    "from Chromosome import Chromosome\n",
    "from random import randint\n",
    "\n",
    "class GA:\n",
    "    def __init__(self, param = None, problParam = None):\n",
    "        self.__param = param\n",
    "        self.__problParam = problParam\n",
    "        self.__population = []\n",
    "        \n",
    "    @property\n",
    "    def population(self):\n",
    "        return self.__population\n",
    "    \n",
    "    def initialisation(self):\n",
    "        for _ in range(0, self.__param['popSize']):\n",
    "            c = Chromosome(self.__problParam)\n",
    "            self.__population.append(c)\n",
    "    \n",
    "    def evaluation(self):\n",
    "        for c in self.__population:\n",
    "            c.fitness = self.__problParam['function'](c.repres)\n",
    "            \n",
    "    def bestChromosome(self):\n",
    "        best = self.__population[0]\n",
    "        for c in self.__population:\n",
    "            if (c.fitness < best.fitness):\n",
    "                best = c\n",
    "        return best\n",
    "        \n",
    "    def worstChromosome(self):\n",
    "        best = self.__population[0]\n",
    "        for c in self.__population:\n",
    "            if (c.fitness > best.fitness):\n",
    "                best = c\n",
    "        return best\n",
    "\n",
    "    def selection(self):\n",
    "        pos1 = randint(0, self.__param['popSize'] - 1)\n",
    "        pos2 = randint(0, self.__param['popSize'] - 1)\n",
    "        if (self.__population[pos1].fitness < self.__population[pos2].fitness):\n",
    "            return pos1\n",
    "        else:\n",
    "            return pos2 \n",
    "        \n",
    "    \n",
    "    def oneGeneration(self):\n",
    "        newPop = []\n",
    "        for _ in range(self.__param['popSize']):\n",
    "            p1 = self.__population[self.selection()]\n",
    "            p2 = self.__population[self.selection()]\n",
    "            off = p1.crossover(p2)\n",
    "            off.mutation()\n",
    "            newPop.append(off)\n",
    "        self.__population = newPop\n",
    "        self.evaluation()\n",
    "        "
   ],
   "metadata": {
    "collapsed": false,
    "pycharm": {
     "name": "#%%\n",
     "is_executing": false
    }
   }
  },
  {
   "cell_type": "code",
   "execution_count": 18,
   "outputs": [],
   "source": [
    "import numpy as np\n",
    "#net=readNet(\"data/easy.txt\")\n",
    "net=read_tsp_file(\"data/eil.txt\")\n",
    "\n",
    "noDim=net[\"noNodes\"]\n",
    "MIN=0\n",
    "MAX=noDim\n",
    "\n",
    "gaParam = {'popSize' : 100, 'noGen' : 1000}\n",
    "\n",
    "problParam = {'min' : MIN, 'max' : MAX, 'function' : fcEval2, 'noDim' : noDim}\n",
    "\n",
    "ga = GA(gaParam, problParam)\n",
    "ga.initialisation()\n",
    "ga.evaluation()\n",
    "bestFitness=noDim*9999\n",
    "bestRepres=[]\n",
    "fileName_output=\"eil_out.txt\"\n",
    "f=open(fileName_output,'w')\n",
    "for g in range(gaParam['noGen']):\n",
    "    bestSolX = ga.bestChromosome().repres\n",
    "    bestSolY = ga.bestChromosome().fitness\n",
    "    if bestSolY<bestFitness:\n",
    "        bestFitness=bestSolY\n",
    "        bestRepres=bestSolX\n",
    "     \n",
    "    ga.oneGeneration()\n",
    "    ga.evaluation()\n",
    "    f.write('Best solution in generation ' + str(g) + ' is: x = ' + str(bestSolX) + ' f(x) = ' + str(bestSolY))\n",
    "    f.write('\\n')\n",
    "    \n",
    "f.write(\"Best repres&fitness: \"+str(bestRepres)+\" \"+str(bestFitness))\n",
    "f.write('\\n')\n",
    "    \n",
    "f.close()"
   ],
   "metadata": {
    "collapsed": false,
    "pycharm": {
     "name": "#%%\n",
     "is_executing": false
    }
   }
  }
 ],
 "metadata": {
  "kernelspec": {
   "display_name": "Python 3",
   "language": "python",
   "name": "python3"
  },
  "language_info": {
   "codemirror_mode": {
    "name": "ipython",
    "version": 2
   },
   "file_extension": ".py",
   "mimetype": "text/x-python",
   "name": "python",
   "nbconvert_exporter": "python",
   "pygments_lexer": "ipython2",
   "version": "2.7.6"
  },
  "pycharm": {
   "stem_cell": {
    "cell_type": "raw",
    "source": [],
    "metadata": {
     "collapsed": false
    }
   }
  }
 },
 "nbformat": 4,
 "nbformat_minor": 0
}